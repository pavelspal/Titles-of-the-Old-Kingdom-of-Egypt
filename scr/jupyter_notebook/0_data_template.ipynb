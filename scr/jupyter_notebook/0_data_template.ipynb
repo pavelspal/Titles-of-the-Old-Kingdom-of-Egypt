{
 "cells": [
  {
   "cell_type": "markdown",
   "id": "f929ade2-a109-4aa9-973e-fd0f2247659f",
   "metadata": {},
   "source": [
    "### imports and load"
   ]
  },
  {
   "cell_type": "code",
   "execution_count": 1,
   "id": "6a8bdea7-5ac9-4bfd-a4d8-ac2d886abf7c",
   "metadata": {},
   "outputs": [],
   "source": [
    "import numpy as np\n",
    "import pandas as pd\n",
    "import set_path\n",
    "import supp.support_load as sl"
   ]
  },
  {
   "cell_type": "code",
   "execution_count": 2,
   "id": "d9f23d50-3595-4efd-bb3d-562eea39f87f",
   "metadata": {},
   "outputs": [
    {
     "name": "stdout",
     "output_type": "stream",
     "text": [
      "Pickle database loaded.\n",
      "C:\\Users\\Stoja\\OneDrive\\Documents\\diplomka\\scr\\data\\dfs_complete.pickle\n",
      "Applied preprocessing: merge_on_jones\n",
      "Applied preprocessing: remove_jones_duplicates\n"
     ]
    },
    {
     "data": {
      "text/plain": [
       "'2024-10-11'"
      ]
     },
     "execution_count": 2,
     "metadata": {},
     "output_type": "execute_result"
    }
   ],
   "source": [
    "dfs, dfs_name, dfs_export_date = sl.load_pickle()\n",
    "iton, ntoi = sl.get_name_dicts(dfs_name)\n",
    "dfs_export_date"
   ]
  },
  {
   "cell_type": "code",
   "execution_count": 25,
   "id": "f47a1274-0e30-4d9f-8181-e2ee6ac5892b",
   "metadata": {},
   "outputs": [
    {
     "data": {
      "text/plain": [
       "(4962,)"
      ]
     },
     "execution_count": 25,
     "metadata": {},
     "output_type": "execute_result"
    }
   ],
   "source": [
    "df_general = dfs[ntoi['df_general']]\n",
    "df_general.shape\n",
    "df_general['ID_person'].drop_duplicates().shape"
   ]
  },
  {
   "cell_type": "code",
   "execution_count": 23,
   "id": "fd657872-1b0d-4ae9-b0f0-6480e0120e8c",
   "metadata": {},
   "outputs": [
    {
     "data": {
      "text/plain": [
       "(4962,)"
      ]
     },
     "execution_count": 23,
     "metadata": {},
     "output_type": "execute_result"
    }
   ],
   "source": [
    "df_person = dfs[ntoi['df_person']]\n",
    "df_person['ID_person'].drop_duplicates().shape"
   ]
  },
  {
   "cell_type": "markdown",
   "id": "7dbb03e8-48d1-4314-91f4-7a5cc904889f",
   "metadata": {},
   "source": [
    "### other"
   ]
  },
  {
   "cell_type": "code",
   "execution_count": null,
   "id": "cb1c2066-5aaf-4097-b9e2-a094a8fa4c0e",
   "metadata": {},
   "outputs": [],
   "source": []
  },
  {
   "cell_type": "code",
   "execution_count": null,
   "id": "3e59c564-ebc2-41a2-87c0-a1514be186f4",
   "metadata": {},
   "outputs": [],
   "source": []
  }
 ],
 "metadata": {
  "kernelspec": {
   "display_name": "Python 3 (ipykernel)",
   "language": "python",
   "name": "python3"
  },
  "language_info": {
   "codemirror_mode": {
    "name": "ipython",
    "version": 3
   },
   "file_extension": ".py",
   "mimetype": "text/x-python",
   "name": "python",
   "nbconvert_exporter": "python",
   "pygments_lexer": "ipython3",
   "version": "3.11.8"
  }
 },
 "nbformat": 4,
 "nbformat_minor": 5
}
