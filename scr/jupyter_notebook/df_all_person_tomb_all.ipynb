{
 "cells": [
  {
   "cell_type": "markdown",
   "id": "4d0fdcc2-fce0-425e-8e89-be821d83802b",
   "metadata": {},
   "source": [
    "# Merge of all dataframes related to \"person\""
   ]
  },
  {
   "cell_type": "markdown",
   "id": "03fb6687-2cbb-4794-8fba-b88592e6479f",
   "metadata": {},
   "source": [
    "This notebook aims to merge all dataframes that are related to \"person\" in Maatbase database. Specifically:\n",
    "\n",
    "- df_person\n",
    "- df_titles\n",
    "- df_person_working_activity\n",
    "- df_attributes\n",
    "- df_attributes_position\n",
    "- df_name\n",
    "\n",
    "Plus using mapping tables:\n",
    "- df_person_title\n",
    "- df_titles_general\n",
    "- df_general_attributes"
   ]
  },
  {
   "cell_type": "markdown",
   "id": "125b6549-05d1-440b-a906-2af22cd11190",
   "metadata": {},
   "source": [
    "### database schema"
   ]
  },
  {
   "cell_type": "markdown",
   "id": "72fa4d7b-83e9-4fb0-a9b5-75fe66fcdcb6",
   "metadata": {},
   "source": [
    "![title](db_schema\\Maatbase_schema_colored.svg)"
   ]
  },
  {
   "cell_type": "markdown",
   "id": "e5d71e61-d4ff-431a-8a77-3a1771bc84a5",
   "metadata": {},
   "source": [
    "### imports and load"
   ]
  },
  {
   "cell_type": "code",
   "execution_count": 2,
   "id": "fb868fec-bd31-42ea-b2c4-745702213b68",
   "metadata": {},
   "outputs": [],
   "source": [
    "import os\n",
    "import numpy as np\n",
    "import pandas as pd\n",
    "import set_path\n",
    "import supp.support_load as sl\n",
    "from supp.support_merge import merge, group_to_list\n",
    "from supp.support_save import save_df\n",
    "from supp.support_analyzer import make_excel_analysis"
   ]
  },
  {
   "cell_type": "code",
   "execution_count": 3,
   "id": "da119187-c740-4774-b70b-d824293de9c7",
   "metadata": {},
   "outputs": [
    {
     "name": "stdout",
     "output_type": "stream",
     "text": [
      "Pickle database loaded.\n",
      "C:\\Users\\Stoja\\OneDrive\\Documents\\diplomka\\scr\\data\\dfs_complete.pickle\n"
     ]
    },
    {
     "data": {
      "text/plain": [
       "'2024-10-11'"
      ]
     },
     "execution_count": 3,
     "metadata": {},
     "output_type": "execute_result"
    }
   ],
   "source": [
    "dfs, dfs_name, dfs_export_date = sl.load_pickle()\n",
    "iton, ntoi = sl.get_name_dicts(dfs_name)\n",
    "dfs_export_date"
   ]
  },
  {
   "cell_type": "code",
   "execution_count": 4,
   "id": "f3573563-5e51-497c-b63b-f59f43067bc9",
   "metadata": {},
   "outputs": [],
   "source": [
    "df_general = dfs[ntoi['df_general']]\n",
    "df_tomb_shaft_relation = dfs[ntoi['df_tomb_shaft_relation']]"
   ]
  },
  {
   "cell_type": "code",
   "execution_count": 50,
   "id": "65688d46-c11f-4035-88ca-645b193876d8",
   "metadata": {},
   "outputs": [
    {
     "name": "stdout",
     "output_type": "stream",
     "text": [
      "CSV file loaded.\n",
      "C:\\Users\\Stoja\\OneDrive\\Documents\\diplomka\\scr\\data\\df_person_all.csv\n",
      "CSV file loaded.\n",
      "C:\\Users\\Stoja\\OneDrive\\Documents\\diplomka\\scr\\data\\df_tomb_all.csv\n"
     ]
    }
   ],
   "source": [
    "df_person_all = sl.read_csv('df_person_all.csv')\n",
    "df_tomb_all = sl.read_csv('df_tomb_all.csv')"
   ]
  },
  {
   "cell_type": "code",
   "execution_count": 16,
   "id": "2f2f640e-d6f6-4fc9-bb52-f3e15f0ac840",
   "metadata": {},
   "outputs": [
    {
     "name": "stdout",
     "output_type": "stream",
     "text": [
      "shape=(111, 2), df_map_person_tomb\n",
      "n. duplicates: 0\n",
      "shape=(111, 2), df_map_person_tomb wihtout duplicates\n",
      "n. tomb duplicates: 27\n",
      "n. person duplicates: 0\n"
     ]
    }
   ],
   "source": [
    "df_map_person_tomb = df_general[~df_general['buried'].isna()]\n",
    "df_map_person_tomb = df_map_person_tomb[['tomb_code_id', 'ID_person']].copy()\n",
    "print(f'shape={df_map_person_tomb.shape}, df_map_person_tomb')\n",
    "# drop duplicates\n",
    "print(f'n. duplicates: {df_map_person_tomb.duplicated().sum()}')\n",
    "df_map_person_tomb.drop_duplicates(inplace=True)\n",
    "print(f'shape={df_map_person_tomb.shape}, df_map_person_tomb wihtout duplicates')\n",
    "# inspect duplicates of tombs\n",
    "print(f'n. tomb duplicates: {df_map_person_tomb[\"tomb_code_id\"].duplicated().sum()}')\n",
    "# inspect duplicates of person\n",
    "print(f'n. person duplicates: {df_map_person_tomb[\"ID_person\"].duplicated().sum()}')"
   ]
  },
  {
   "cell_type": "code",
   "execution_count": 13,
   "id": "f2579778-40fc-4557-b56d-dcbc54d8cf47",
   "metadata": {},
   "outputs": [
    {
     "data": {
      "text/html": [
       "<div>\n",
       "<style scoped>\n",
       "    .dataframe tbody tr th:only-of-type {\n",
       "        vertical-align: middle;\n",
       "    }\n",
       "\n",
       "    .dataframe tbody tr th {\n",
       "        vertical-align: top;\n",
       "    }\n",
       "\n",
       "    .dataframe thead th {\n",
       "        text-align: right;\n",
       "    }\n",
       "</style>\n",
       "<table border=\"1\" class=\"dataframe\">\n",
       "  <thead>\n",
       "    <tr style=\"text-align: right;\">\n",
       "      <th></th>\n",
       "      <th>tomb_code_id</th>\n",
       "      <th>ID_person</th>\n",
       "    </tr>\n",
       "  </thead>\n",
       "  <tbody>\n",
       "  </tbody>\n",
       "</table>\n",
       "</div>"
      ],
      "text/plain": [
       "Empty DataFrame\n",
       "Columns: [tomb_code_id, ID_person]\n",
       "Index: []"
      ]
     },
     "execution_count": 13,
     "metadata": {},
     "output_type": "execute_result"
    }
   ],
   "source": [
    "df_map_person_tomb[df_map_person_tomb['ID_person'].duplicated(keep=False)].sort_values('ID_person')"
   ]
  },
  {
   "cell_type": "code",
   "execution_count": null,
   "id": "5107cec1-1af8-45fa-aad7-08629fe1f0c2",
   "metadata": {},
   "outputs": [],
   "source": [
    "df = df_general[df_general]"
   ]
  },
  {
   "cell_type": "code",
   "execution_count": 44,
   "id": "26f0010e-70ea-49e4-830b-73b7eb9c5761",
   "metadata": {},
   "outputs": [
    {
     "data": {
      "text/plain": [
       "882"
      ]
     },
     "execution_count": 44,
     "metadata": {},
     "output_type": "execute_result"
    }
   ],
   "source": [
    "df_general['owner'][(df_general['owner']!='no') & ~(df_general['owner'].isna())]"
   ]
  },
  {
   "cell_type": "code",
   "execution_count": 66,
   "id": "685b6f98-651f-4d93-8ddc-84963871b3b9",
   "metadata": {},
   "outputs": [
    {
     "data": {
      "text/html": [
       "<div>\n",
       "<style scoped>\n",
       "    .dataframe tbody tr th:only-of-type {\n",
       "        vertical-align: middle;\n",
       "    }\n",
       "\n",
       "    .dataframe tbody tr th {\n",
       "        vertical-align: top;\n",
       "    }\n",
       "\n",
       "    .dataframe thead th {\n",
       "        text-align: right;\n",
       "    }\n",
       "</style>\n",
       "<table border=\"1\" class=\"dataframe\">\n",
       "  <thead>\n",
       "    <tr style=\"text-align: right;\">\n",
       "      <th></th>\n",
       "      <th>ID_person</th>\n",
       "      <th>sex</th>\n",
       "      <th>social_status</th>\n",
       "      <th>age_at_death</th>\n",
       "      <th>age_category</th>\n",
       "      <th>career_length</th>\n",
       "    </tr>\n",
       "  </thead>\n",
       "  <tbody>\n",
       "    <tr>\n",
       "      <th>237</th>\n",
       "      <td>1</td>\n",
       "      <td>male</td>\n",
       "      <td>highest</td>\n",
       "      <td>NaN</td>\n",
       "      <td>NaN</td>\n",
       "      <td>NaN</td>\n",
       "    </tr>\n",
       "  </tbody>\n",
       "</table>\n",
       "</div>"
      ],
      "text/plain": [
       "     ID_person   sex social_status age_at_death age_category career_length\n",
       "237          1  male       highest          NaN          NaN           NaN"
      ]
     },
     "execution_count": 66,
     "metadata": {},
     "output_type": "execute_result"
    }
   ],
   "source": [
    "df_person = dfs[ntoi['df_person']]\n",
    "df_person[df_person['ID_person']==1]"
   ]
  },
  {
   "cell_type": "code",
   "execution_count": 1,
   "id": "5e95bb8b-677c-4e2d-9b13-e2b7615bca14",
   "metadata": {},
   "outputs": [
    {
     "ename": "NameError",
     "evalue": "name 'dfs' is not defined",
     "output_type": "error",
     "traceback": [
      "\u001b[1;31m---------------------------------------------------------------------------\u001b[0m",
      "\u001b[1;31mNameError\u001b[0m                                 Traceback (most recent call last)",
      "Cell \u001b[1;32mIn[1], line 1\u001b[0m\n\u001b[1;32m----> 1\u001b[0m df_name \u001b[38;5;241m=\u001b[39m dfs[ntoi[\u001b[38;5;124m'\u001b[39m\u001b[38;5;124mdf_name\u001b[39m\u001b[38;5;124m'\u001b[39m]]\n",
      "\u001b[1;31mNameError\u001b[0m: name 'dfs' is not defined"
     ]
    }
   ],
   "source": [
    "df_name = dfs[ntoi['df_name']]"
   ]
  },
  {
   "cell_type": "code",
   "execution_count": 69,
   "id": "f63a0380-7837-420d-b16e-aef9a760deda",
   "metadata": {},
   "outputs": [
    {
     "data": {
      "text/plain": [
       "array([172, 379, 166, 562], dtype=int64)"
      ]
     },
     "execution_count": 69,
     "metadata": {},
     "output_type": "execute_result"
    }
   ],
   "source": [
    "df_general[df_general['ID_person']==1]['name_id'].unique()"
   ]
  },
  {
   "cell_type": "code",
   "execution_count": 74,
   "id": "972c80e3-b76e-4e8d-bc91-2ed5c9baae7b",
   "metadata": {},
   "outputs": [
    {
     "data": {
      "text/html": [
       "<div>\n",
       "<style scoped>\n",
       "    .dataframe tbody tr th:only-of-type {\n",
       "        vertical-align: middle;\n",
       "    }\n",
       "\n",
       "    .dataframe tbody tr th {\n",
       "        vertical-align: top;\n",
       "    }\n",
       "\n",
       "    .dataframe thead th {\n",
       "        text-align: right;\n",
       "    }\n",
       "</style>\n",
       "<table border=\"1\" class=\"dataframe\">\n",
       "  <thead>\n",
       "    <tr style=\"text-align: right;\">\n",
       "      <th></th>\n",
       "      <th>ID_official_source</th>\n",
       "      <th>name</th>\n",
       "      <th>Gourdon</th>\n",
       "      <th>Ranke</th>\n",
       "      <th>Scheele-Schweitzer</th>\n",
       "      <th>name_ext</th>\n",
       "      <th>name_id</th>\n",
       "    </tr>\n",
       "  </thead>\n",
       "  <tbody>\n",
       "    <tr>\n",
       "      <th>222</th>\n",
       "      <td>225</td>\n",
       "      <td>PtH-...</td>\n",
       "      <td>38a/4</td>\n",
       "      <td>I, 138/9</td>\n",
       "      <td>NaN</td>\n",
       "      <td>PtH-...</td>\n",
       "      <td>166</td>\n",
       "    </tr>\n",
       "    <tr>\n",
       "      <th>230</th>\n",
       "      <td>233</td>\n",
       "      <td>PtH-Spcc</td>\n",
       "      <td>655/1 ^pss-PtH</td>\n",
       "      <td>I, 326/19</td>\n",
       "      <td>676–678/3309 ^pss-PtH</td>\n",
       "      <td>PtH-Spcc</td>\n",
       "      <td>172</td>\n",
       "    </tr>\n",
       "    <tr>\n",
       "      <th>535</th>\n",
       "      <td>538</td>\n",
       "      <td>5pcc</td>\n",
       "      <td>653/4</td>\n",
       "      <td>I, 326/17</td>\n",
       "      <td>676/3305</td>\n",
       "      <td>5pcc</td>\n",
       "      <td>379</td>\n",
       "    </tr>\n",
       "    <tr>\n",
       "      <th>826</th>\n",
       "      <td>832</td>\n",
       "      <td>...</td>\n",
       "      <td>NaN</td>\n",
       "      <td>NaN</td>\n",
       "      <td>NaN</td>\n",
       "      <td>...</td>\n",
       "      <td>562</td>\n",
       "    </tr>\n",
       "  </tbody>\n",
       "</table>\n",
       "</div>"
      ],
      "text/plain": [
       "     ID_official_source      name         Gourdon      Ranke  \\\n",
       "222                 225   PtH-...           38a/4   I, 138/9   \n",
       "230                 233  PtH-Spcc  655/1 ^pss-PtH  I, 326/19   \n",
       "535                 538      5pcc           653/4  I, 326/17   \n",
       "826                 832       ...             NaN        NaN   \n",
       "\n",
       "        Scheele-Schweitzer  name_ext  name_id  \n",
       "222                    NaN   PtH-...      166  \n",
       "230  676–678/3309 ^pss-PtH  PtH-Spcc      172  \n",
       "535               676/3305      5pcc      379  \n",
       "826                    NaN       ...      562  "
      ]
     },
     "execution_count": 74,
     "metadata": {},
     "output_type": "execute_result"
    }
   ],
   "source": [
    "df_name[df_name['name_id'].isin([172, 379, 166, 562])]"
   ]
  }
 ],
 "metadata": {
  "kernelspec": {
   "display_name": "Python 3 (ipykernel)",
   "language": "python",
   "name": "python3"
  },
  "language_info": {
   "codemirror_mode": {
    "name": "ipython",
    "version": 3
   },
   "file_extension": ".py",
   "mimetype": "text/x-python",
   "name": "python",
   "nbconvert_exporter": "python",
   "pygments_lexer": "ipython3",
   "version": "3.11.8"
  }
 },
 "nbformat": 4,
 "nbformat_minor": 5
}
