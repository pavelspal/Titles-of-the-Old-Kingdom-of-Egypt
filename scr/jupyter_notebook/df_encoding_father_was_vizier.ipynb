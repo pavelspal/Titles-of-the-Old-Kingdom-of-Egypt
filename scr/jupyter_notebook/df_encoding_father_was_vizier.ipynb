{
 "cells": [
  {
   "cell_type": "markdown",
   "id": "dc3dd4d3-6698-4162-ad5b-7df94757f464",
   "metadata": {},
   "source": [
    "# Make a dataframe coding whether person ancestor was vizier"
   ]
  },
  {
   "cell_type": "markdown",
   "id": "dbec9bde-6b3a-4579-9ed2-630674c90896",
   "metadata": {},
   "source": [
    "**Motivation:**  \n",
    "Nepotism in the Old Kingdom was significant, so we should encode whether a given person had a vizier in the family (in this case, whether their father was a vizier).\n",
    "\n",
    "**Workflow:**\n",
    "- Load relations from `df_family_relations`.  \n",
    "- Identify all relationships of type father–son and son–father.  \n",
    "- For each (father, son) pair, assign a boolean value indicating whether the father was a vizier (`father_was_vizier`).  \n",
    "- Save the final DataFrame with the columns `ID_person` (son) and `father_was_vizier`."
   ]
  },
  {
   "cell_type": "markdown",
   "id": "4acc7718-eee7-469d-8216-991ae6db284c",
   "metadata": {},
   "source": [
    "### load"
   ]
  },
  {
   "cell_type": "code",
   "execution_count": 1,
   "id": "647082de-1f1c-441b-b955-f3a6dc007a6c",
   "metadata": {},
   "outputs": [],
   "source": [
    "import os\n",
    "import numpy as np\n",
    "import pandas as pd\n",
    "import set_path\n",
    "import supp.support_load as sl\n",
    "from supp.support_merge import merge, group_to_list\n",
    "from supp.support_save import save_df\n",
    "from supp.support_analyzer import make_excel_analysis"
   ]
  },
  {
   "cell_type": "code",
   "execution_count": 2,
   "id": "f8d764c0-a7fa-41ee-b919-d3d4acf44346",
   "metadata": {},
   "outputs": [
    {
     "name": "stdout",
     "output_type": "stream",
     "text": [
      "Pickle database loaded.\n",
      "C:\\Users\\Stoja\\OneDrive\\Documents\\diplomka\\scr\\data\\dfs_complete.pickle\n",
      "Applied preprocessing: merge_on_jones\n",
      "Applied preprocessing: remove_jones_duplicates\n"
     ]
    },
    {
     "data": {
      "text/plain": [
       "'2024-10-11'"
      ]
     },
     "execution_count": 2,
     "metadata": {},
     "output_type": "execute_result"
    }
   ],
   "source": [
    "dfs, dfs_name, dfs_export_date = sl.load_pickle()\n",
    "iton, ntoi = sl.get_name_dicts(dfs_name)\n",
    "dfs_export_date"
   ]
  },
  {
   "cell_type": "code",
   "execution_count": 3,
   "id": "20d41486-59e8-4736-8ab1-62d4d6456d6f",
   "metadata": {},
   "outputs": [
    {
     "name": "stdout",
     "output_type": "stream",
     "text": [
      "CSV file loaded.\n",
      "C:\\Users\\Stoja\\OneDrive\\Documents\\diplomka\\scr\\data\\unpacked\\df_person_all\\vizier.csv\n",
      "CSV file loaded.\n",
      "C:\\Users\\Stoja\\OneDrive\\Documents\\diplomka\\scr\\data\\df_person_all.csv\n",
      "CSV file loaded.\n",
      "C:\\Users\\Stoja\\OneDrive\\Documents\\diplomka\\scr\\data\\unpacked\\df_person_all\\08_sex.csv\n"
     ]
    }
   ],
   "source": [
    "# load df with viziers\n",
    "vizier = sl.read_csv('vizier')\n",
    "# load df with all information about persons\n",
    "df_person_all = sl.read_csv('df_person_all')\n",
    "# load df with sex of persons\n",
    "df_sex = sl.read_csv('08_sex')"
   ]
  },
  {
   "cell_type": "code",
   "execution_count": 4,
   "id": "4a86c24f-abf3-4a2a-8b70-3d1e8cb609bd",
   "metadata": {},
   "outputs": [
    {
     "data": {
      "text/plain": [
       "3930"
      ]
     },
     "execution_count": 4,
     "metadata": {},
     "output_type": "execute_result"
    }
   ],
   "source": [
    "# get ID_persons of males\n",
    "male_id_list = df_sex.loc[df_sex['male']==1, 'ID_person'].to_list()\n",
    "len(male_id_list)"
   ]
  },
  {
   "cell_type": "code",
   "execution_count": 5,
   "id": "98fe9575-9e36-40cc-9d0c-ba6d927ce248",
   "metadata": {},
   "outputs": [
    {
     "name": "stdout",
     "output_type": "stream",
     "text": [
      "(10531, 8)\t shape of df_family_relations\n",
      "(3998, 8)\t shape of df_family_relations after restriction to \"male-male\" relations\n"
     ]
    },
    {
     "data": {
      "text/html": [
       "<div>\n",
       "<style scoped>\n",
       "    .dataframe tbody tr th:only-of-type {\n",
       "        vertical-align: middle;\n",
       "    }\n",
       "\n",
       "    .dataframe tbody tr th {\n",
       "        vertical-align: top;\n",
       "    }\n",
       "\n",
       "    .dataframe thead th {\n",
       "        text-align: right;\n",
       "    }\n",
       "</style>\n",
       "<table border=\"1\" class=\"dataframe\">\n",
       "  <thead>\n",
       "    <tr style=\"text-align: right;\">\n",
       "      <th></th>\n",
       "      <th>certainty</th>\n",
       "      <th>degree_of_certainty</th>\n",
       "      <th>ID_family_relation</th>\n",
       "      <th>ID_official_1</th>\n",
       "      <th>ID_official_2</th>\n",
       "      <th>type_of_relative</th>\n",
       "      <th>ID_person_1</th>\n",
       "      <th>ID_person_2</th>\n",
       "    </tr>\n",
       "  </thead>\n",
       "  <tbody>\n",
       "    <tr>\n",
       "      <th>0</th>\n",
       "      <td>NaN</td>\n",
       "      <td>NaN</td>\n",
       "      <td>1</td>\n",
       "      <td>18</td>\n",
       "      <td>202.0</td>\n",
       "      <td>father of</td>\n",
       "      <td>39</td>\n",
       "      <td>493.0</td>\n",
       "    </tr>\n",
       "    <tr>\n",
       "      <th>1</th>\n",
       "      <td>NaN</td>\n",
       "      <td>NaN</td>\n",
       "      <td>2</td>\n",
       "      <td>80</td>\n",
       "      <td>232.0</td>\n",
       "      <td>son of</td>\n",
       "      <td>389</td>\n",
       "      <td>516.0</td>\n",
       "    </tr>\n",
       "    <tr>\n",
       "      <th>2</th>\n",
       "      <td>NaN</td>\n",
       "      <td>NaN</td>\n",
       "      <td>3</td>\n",
       "      <td>90</td>\n",
       "      <td>476.0</td>\n",
       "      <td>son of</td>\n",
       "      <td>399</td>\n",
       "      <td>683.0</td>\n",
       "    </tr>\n",
       "    <tr>\n",
       "      <th>3</th>\n",
       "      <td>NaN</td>\n",
       "      <td>NaN</td>\n",
       "      <td>7</td>\n",
       "      <td>100</td>\n",
       "      <td>2962.0</td>\n",
       "      <td>son of</td>\n",
       "      <td>409</td>\n",
       "      <td>2766.0</td>\n",
       "    </tr>\n",
       "    <tr>\n",
       "      <th>4</th>\n",
       "      <td>NaN</td>\n",
       "      <td>NaN</td>\n",
       "      <td>8</td>\n",
       "      <td>139</td>\n",
       "      <td>542.0</td>\n",
       "      <td>father of</td>\n",
       "      <td>443</td>\n",
       "      <td>732.0</td>\n",
       "    </tr>\n",
       "  </tbody>\n",
       "</table>\n",
       "</div>"
      ],
      "text/plain": [
       "  certainty degree_of_certainty  ID_family_relation  ID_official_1  \\\n",
       "0       NaN                 NaN                   1             18   \n",
       "1       NaN                 NaN                   2             80   \n",
       "2       NaN                 NaN                   3             90   \n",
       "3       NaN                 NaN                   7            100   \n",
       "4       NaN                 NaN                   8            139   \n",
       "\n",
       "   ID_official_2 type_of_relative  ID_person_1  ID_person_2  \n",
       "0          202.0        father of           39        493.0  \n",
       "1          232.0           son of          389        516.0  \n",
       "2          476.0           son of          399        683.0  \n",
       "3         2962.0           son of          409       2766.0  \n",
       "4          542.0        father of          443        732.0  "
      ]
     },
     "execution_count": 5,
     "metadata": {},
     "output_type": "execute_result"
    }
   ],
   "source": [
    "# get all recorded relations between male-male from table df_family_relations\n",
    "df_family_relations = dfs[ntoi['df_family_relations']]\n",
    "print(f'{df_family_relations.shape}\\t shape of df_family_relations')\n",
    "df_family_relations = df_family_relations.loc[df_family_relations['ID_person_1'].isin(male_id_list), :]\n",
    "df_family_relations = df_family_relations.loc[df_family_relations['ID_person_2'].isin(male_id_list), :]\n",
    "print(f'{df_family_relations.shape}\\t shape of df_family_relations after restriction to \"male-male\" relations')\n",
    "df_family_relations.head()"
   ]
  },
  {
   "cell_type": "markdown",
   "id": "4c02d2f5-26a4-42ba-9716-f320dd29c78b",
   "metadata": {},
   "source": [
    "### family relations"
   ]
  },
  {
   "cell_type": "code",
   "execution_count": 6,
   "id": "dc9a1682-2ca1-41ac-a37b-d5c65aaaafce",
   "metadata": {},
   "outputs": [
    {
     "data": {
      "text/plain": [
       "type_of_relative\n",
       "brother of           2165\n",
       "son of                881\n",
       "father of             853\n",
       "grandson of            23\n",
       "grandfather of         22\n",
       "unspecified            12\n",
       "brother-in-law of       3\n",
       "sister of               2\n",
       "nephew of               1\n",
       "uncle of                1\n",
       "son-in-law of           1\n",
       "ancestor of             1\n",
       "descendant of           1\n",
       "husband of              1\n",
       "Name: count, dtype: int64"
      ]
     },
     "execution_count": 6,
     "metadata": {},
     "output_type": "execute_result"
    }
   ],
   "source": [
    "df_family_relations['type_of_relative'].value_counts()"
   ]
  },
  {
   "cell_type": "code",
   "execution_count": 7,
   "id": "c298b899-a92e-4dfe-b29c-8c3c2e84221c",
   "metadata": {},
   "outputs": [],
   "source": [
    "# list of important relations\n",
    "relations = ['son of',\n",
    "             'father of',\n",
    "             'grandson of',\n",
    "             'grandfather of',\n",
    "             'son/daughter of',\n",
    "             'nephew of',\n",
    "             'uncle of',\n",
    "             'ancestor of',\n",
    "             'descendant of'\n",
    "            ]"
   ]
  },
  {
   "cell_type": "markdown",
   "id": "9ee0caae-06e7-446c-beaa-e01fb35fbc23",
   "metadata": {},
   "source": [
    "#### father-son relations"
   ]
  },
  {
   "cell_type": "code",
   "execution_count": 8,
   "id": "760a4e9e-483d-496f-97c9-500a639ee807",
   "metadata": {},
   "outputs": [
    {
     "name": "stdout",
     "output_type": "stream",
     "text": [
      "(837, 3)\n"
     ]
    },
    {
     "data": {
      "text/html": [
       "<div>\n",
       "<style scoped>\n",
       "    .dataframe tbody tr th:only-of-type {\n",
       "        vertical-align: middle;\n",
       "    }\n",
       "\n",
       "    .dataframe tbody tr th {\n",
       "        vertical-align: top;\n",
       "    }\n",
       "\n",
       "    .dataframe thead th {\n",
       "        text-align: right;\n",
       "    }\n",
       "</style>\n",
       "<table border=\"1\" class=\"dataframe\">\n",
       "  <thead>\n",
       "    <tr style=\"text-align: right;\">\n",
       "      <th></th>\n",
       "      <th>type_of_relative</th>\n",
       "      <th>father</th>\n",
       "      <th>son</th>\n",
       "    </tr>\n",
       "  </thead>\n",
       "  <tbody>\n",
       "    <tr>\n",
       "      <th>0</th>\n",
       "      <td>father of</td>\n",
       "      <td>39</td>\n",
       "      <td>493.0</td>\n",
       "    </tr>\n",
       "    <tr>\n",
       "      <th>4</th>\n",
       "      <td>father of</td>\n",
       "      <td>443</td>\n",
       "      <td>732.0</td>\n",
       "    </tr>\n",
       "    <tr>\n",
       "      <th>8</th>\n",
       "      <td>father of</td>\n",
       "      <td>456</td>\n",
       "      <td>611.0</td>\n",
       "    </tr>\n",
       "    <tr>\n",
       "      <th>9</th>\n",
       "      <td>father of</td>\n",
       "      <td>16</td>\n",
       "      <td>930.0</td>\n",
       "    </tr>\n",
       "    <tr>\n",
       "      <th>16</th>\n",
       "      <td>father of</td>\n",
       "      <td>1</td>\n",
       "      <td>518.0</td>\n",
       "    </tr>\n",
       "  </tbody>\n",
       "</table>\n",
       "</div>"
      ],
      "text/plain": [
       "   type_of_relative  father    son\n",
       "0         father of      39  493.0\n",
       "4         father of     443  732.0\n",
       "8         father of     456  611.0\n",
       "9         father of      16  930.0\n",
       "16        father of       1  518.0"
      ]
     },
     "execution_count": 8,
     "metadata": {},
     "output_type": "execute_result"
    }
   ],
   "source": [
    "df_fathers = df_family_relations.loc[df_family_relations['type_of_relative']=='father of', :]\n",
    "df_fathers = df_fathers[['type_of_relative', 'ID_person_1', 'ID_person_2']]\n",
    "df_fathers.columns = ['type_of_relative', 'father', 'son']\n",
    "df_fathers.drop_duplicates(keep='first', inplace=True)\n",
    "print(df_fathers.shape)\n",
    "df_fathers.head()"
   ]
  },
  {
   "cell_type": "code",
   "execution_count": 9,
   "id": "d8bb8009-37dd-45e8-96b7-d34d1a0982ff",
   "metadata": {},
   "outputs": [
    {
     "name": "stdout",
     "output_type": "stream",
     "text": [
      "(4, 3)\n"
     ]
    },
    {
     "data": {
      "text/html": [
       "<div>\n",
       "<style scoped>\n",
       "    .dataframe tbody tr th:only-of-type {\n",
       "        vertical-align: middle;\n",
       "    }\n",
       "\n",
       "    .dataframe tbody tr th {\n",
       "        vertical-align: top;\n",
       "    }\n",
       "\n",
       "    .dataframe thead th {\n",
       "        text-align: right;\n",
       "    }\n",
       "</style>\n",
       "<table border=\"1\" class=\"dataframe\">\n",
       "  <thead>\n",
       "    <tr style=\"text-align: right;\">\n",
       "      <th></th>\n",
       "      <th>type_of_relative</th>\n",
       "      <th>father</th>\n",
       "      <th>son</th>\n",
       "    </tr>\n",
       "  </thead>\n",
       "  <tbody>\n",
       "    <tr>\n",
       "      <th>9346</th>\n",
       "      <td>father of</td>\n",
       "      <td>2890</td>\n",
       "      <td>309.0</td>\n",
       "    </tr>\n",
       "    <tr>\n",
       "      <th>10222</th>\n",
       "      <td>father of</td>\n",
       "      <td>4856</td>\n",
       "      <td>309.0</td>\n",
       "    </tr>\n",
       "    <tr>\n",
       "      <th>10320</th>\n",
       "      <td>father of</td>\n",
       "      <td>314</td>\n",
       "      <td>4901.0</td>\n",
       "    </tr>\n",
       "    <tr>\n",
       "      <th>10319</th>\n",
       "      <td>father of</td>\n",
       "      <td>3697</td>\n",
       "      <td>4901.0</td>\n",
       "    </tr>\n",
       "  </tbody>\n",
       "</table>\n",
       "</div>"
      ],
      "text/plain": [
       "      type_of_relative  father     son\n",
       "9346         father of    2890   309.0\n",
       "10222        father of    4856   309.0\n",
       "10320        father of     314  4901.0\n",
       "10319        father of    3697  4901.0"
      ]
     },
     "execution_count": 9,
     "metadata": {},
     "output_type": "execute_result"
    }
   ],
   "source": [
    "# print duplicates in father\n",
    "dup_fathers = df_fathers[df_fathers['son'].duplicated(keep=False)]\n",
    "dup_fathers = dup_fathers.sort_values(['son', 'father'])\n",
    "print(dup_fathers.shape)\n",
    "dup_fathers"
   ]
  },
  {
   "cell_type": "markdown",
   "id": "af23921d-2a2f-4aeb-b8a3-3256b70b4407",
   "metadata": {},
   "source": [
    "#### son-father relations"
   ]
  },
  {
   "cell_type": "code",
   "execution_count": 10,
   "id": "a74e1df4-51f5-4b03-b421-cb396ba2ed71",
   "metadata": {},
   "outputs": [
    {
     "name": "stdout",
     "output_type": "stream",
     "text": [
      "(850, 3)\n"
     ]
    },
    {
     "data": {
      "text/html": [
       "<div>\n",
       "<style scoped>\n",
       "    .dataframe tbody tr th:only-of-type {\n",
       "        vertical-align: middle;\n",
       "    }\n",
       "\n",
       "    .dataframe tbody tr th {\n",
       "        vertical-align: top;\n",
       "    }\n",
       "\n",
       "    .dataframe thead th {\n",
       "        text-align: right;\n",
       "    }\n",
       "</style>\n",
       "<table border=\"1\" class=\"dataframe\">\n",
       "  <thead>\n",
       "    <tr style=\"text-align: right;\">\n",
       "      <th></th>\n",
       "      <th>type_of_relative</th>\n",
       "      <th>son</th>\n",
       "      <th>father</th>\n",
       "    </tr>\n",
       "  </thead>\n",
       "  <tbody>\n",
       "    <tr>\n",
       "      <th>1</th>\n",
       "      <td>son of</td>\n",
       "      <td>389</td>\n",
       "      <td>516.0</td>\n",
       "    </tr>\n",
       "    <tr>\n",
       "      <th>2</th>\n",
       "      <td>son of</td>\n",
       "      <td>399</td>\n",
       "      <td>683.0</td>\n",
       "    </tr>\n",
       "    <tr>\n",
       "      <th>3</th>\n",
       "      <td>son of</td>\n",
       "      <td>409</td>\n",
       "      <td>2766.0</td>\n",
       "    </tr>\n",
       "    <tr>\n",
       "      <th>6</th>\n",
       "      <td>son of</td>\n",
       "      <td>456</td>\n",
       "      <td>620.0</td>\n",
       "    </tr>\n",
       "    <tr>\n",
       "      <th>10</th>\n",
       "      <td>son of</td>\n",
       "      <td>475</td>\n",
       "      <td>931.0</td>\n",
       "    </tr>\n",
       "  </tbody>\n",
       "</table>\n",
       "</div>"
      ],
      "text/plain": [
       "   type_of_relative  son  father\n",
       "1            son of  389   516.0\n",
       "2            son of  399   683.0\n",
       "3            son of  409  2766.0\n",
       "6            son of  456   620.0\n",
       "10           son of  475   931.0"
      ]
     },
     "execution_count": 10,
     "metadata": {},
     "output_type": "execute_result"
    }
   ],
   "source": [
    "df_sons = df_family_relations.loc[df_family_relations['type_of_relative']=='son of', :]\n",
    "df_sons = df_sons[['type_of_relative', 'ID_person_1', 'ID_person_2']]\n",
    "df_sons.columns = ['type_of_relative', 'son', 'father']\n",
    "df_sons.drop_duplicates(keep='first', inplace=True)\n",
    "print(df_sons.shape)\n",
    "df_sons.head()"
   ]
  },
  {
   "cell_type": "code",
   "execution_count": 11,
   "id": "dfbae167-fbd3-4759-a678-8de781debd2a",
   "metadata": {
    "scrolled": true
   },
   "outputs": [
    {
     "name": "stdout",
     "output_type": "stream",
     "text": [
      "(2, 3)\n"
     ]
    },
    {
     "data": {
      "text/html": [
       "<div>\n",
       "<style scoped>\n",
       "    .dataframe tbody tr th:only-of-type {\n",
       "        vertical-align: middle;\n",
       "    }\n",
       "\n",
       "    .dataframe tbody tr th {\n",
       "        vertical-align: top;\n",
       "    }\n",
       "\n",
       "    .dataframe thead th {\n",
       "        text-align: right;\n",
       "    }\n",
       "</style>\n",
       "<table border=\"1\" class=\"dataframe\">\n",
       "  <thead>\n",
       "    <tr style=\"text-align: right;\">\n",
       "      <th></th>\n",
       "      <th>type_of_relative</th>\n",
       "      <th>son</th>\n",
       "      <th>father</th>\n",
       "    </tr>\n",
       "  </thead>\n",
       "  <tbody>\n",
       "    <tr>\n",
       "      <th>9345</th>\n",
       "      <td>son of</td>\n",
       "      <td>309</td>\n",
       "      <td>2890.0</td>\n",
       "    </tr>\n",
       "    <tr>\n",
       "      <th>10218</th>\n",
       "      <td>son of</td>\n",
       "      <td>309</td>\n",
       "      <td>4856.0</td>\n",
       "    </tr>\n",
       "  </tbody>\n",
       "</table>\n",
       "</div>"
      ],
      "text/plain": [
       "      type_of_relative  son  father\n",
       "9345            son of  309  2890.0\n",
       "10218           son of  309  4856.0"
      ]
     },
     "execution_count": 11,
     "metadata": {},
     "output_type": "execute_result"
    }
   ],
   "source": [
    "# print duplicates in father\n",
    "dup_sons = df_sons[df_sons['son'].duplicated(keep=False)]\n",
    "dup_sons = dup_sons.sort_values(['son', 'father'])\n",
    "print(dup_sons.shape)\n",
    "dup_sons.head()"
   ]
  },
  {
   "cell_type": "code",
   "execution_count": 12,
   "id": "566df3f0-ac3f-41dc-a616-0bd5d723013f",
   "metadata": {},
   "outputs": [
    {
     "data": {
      "text/html": [
       "<div>\n",
       "<style scoped>\n",
       "    .dataframe tbody tr th:only-of-type {\n",
       "        vertical-align: middle;\n",
       "    }\n",
       "\n",
       "    .dataframe tbody tr th {\n",
       "        vertical-align: top;\n",
       "    }\n",
       "\n",
       "    .dataframe thead th {\n",
       "        text-align: right;\n",
       "    }\n",
       "</style>\n",
       "<table border=\"1\" class=\"dataframe\">\n",
       "  <thead>\n",
       "    <tr style=\"text-align: right;\">\n",
       "      <th></th>\n",
       "      <th>type_of_relative</th>\n",
       "      <th>son</th>\n",
       "      <th>father</th>\n",
       "    </tr>\n",
       "  </thead>\n",
       "  <tbody>\n",
       "    <tr>\n",
       "      <th>9345</th>\n",
       "      <td>son of</td>\n",
       "      <td>309</td>\n",
       "      <td>2890.0</td>\n",
       "    </tr>\n",
       "    <tr>\n",
       "      <th>10218</th>\n",
       "      <td>son of</td>\n",
       "      <td>309</td>\n",
       "      <td>4856.0</td>\n",
       "    </tr>\n",
       "  </tbody>\n",
       "</table>\n",
       "</div>"
      ],
      "text/plain": [
       "      type_of_relative  son  father\n",
       "9345            son of  309  2890.0\n",
       "10218           son of  309  4856.0"
      ]
     },
     "execution_count": 12,
     "metadata": {},
     "output_type": "execute_result"
    }
   ],
   "source": [
    "dup_sons[:50]"
   ]
  },
  {
   "cell_type": "markdown",
   "id": "38cb7715-86fb-4d72-a938-89bd54f9233e",
   "metadata": {},
   "source": [
    "### save df"
   ]
  },
  {
   "cell_type": "code",
   "execution_count": 13,
   "id": "5b510ad7-d563-4c76-8093-fb7ff7da61b2",
   "metadata": {},
   "outputs": [
    {
     "name": "stdout",
     "output_type": "stream",
     "text": [
      "(1687, 2)\tbefore dropping duplicates\n",
      "(860, 2)\tafter dropping duplicates\n"
     ]
    },
    {
     "data": {
      "text/html": [
       "<div>\n",
       "<style scoped>\n",
       "    .dataframe tbody tr th:only-of-type {\n",
       "        vertical-align: middle;\n",
       "    }\n",
       "\n",
       "    .dataframe tbody tr th {\n",
       "        vertical-align: top;\n",
       "    }\n",
       "\n",
       "    .dataframe thead th {\n",
       "        text-align: right;\n",
       "    }\n",
       "</style>\n",
       "<table border=\"1\" class=\"dataframe\">\n",
       "  <thead>\n",
       "    <tr style=\"text-align: right;\">\n",
       "      <th></th>\n",
       "      <th>father</th>\n",
       "      <th>son</th>\n",
       "    </tr>\n",
       "  </thead>\n",
       "  <tbody>\n",
       "    <tr>\n",
       "      <th>0</th>\n",
       "      <td>39.0</td>\n",
       "      <td>493.0</td>\n",
       "    </tr>\n",
       "    <tr>\n",
       "      <th>1</th>\n",
       "      <td>443.0</td>\n",
       "      <td>732.0</td>\n",
       "    </tr>\n",
       "    <tr>\n",
       "      <th>2</th>\n",
       "      <td>456.0</td>\n",
       "      <td>611.0</td>\n",
       "    </tr>\n",
       "    <tr>\n",
       "      <th>3</th>\n",
       "      <td>16.0</td>\n",
       "      <td>930.0</td>\n",
       "    </tr>\n",
       "    <tr>\n",
       "      <th>4</th>\n",
       "      <td>1.0</td>\n",
       "      <td>518.0</td>\n",
       "    </tr>\n",
       "  </tbody>\n",
       "</table>\n",
       "</div>"
      ],
      "text/plain": [
       "   father    son\n",
       "0    39.0  493.0\n",
       "1   443.0  732.0\n",
       "2   456.0  611.0\n",
       "3    16.0  930.0\n",
       "4     1.0  518.0"
      ]
     },
     "execution_count": 13,
     "metadata": {},
     "output_type": "execute_result"
    }
   ],
   "source": [
    "# concat father-son and son-father relations\n",
    "df_sons_2 = df_sons[df_fathers.columns]  # reorder columns\n",
    "df_fathers_all = pd.concat([df_fathers, df_sons_2], ignore_index=True)\n",
    "df_fathers_all = df_fathers_all[['father', 'son']]\n",
    "print(f'{df_fathers_all.shape}\\tbefore dropping duplicates')\n",
    "df_fathers_all.drop_duplicates(keep='first', inplace=True)\n",
    "print(f'{df_fathers_all.shape}\\tafter dropping duplicates')\n",
    "df_fathers_all.head()"
   ]
  },
  {
   "cell_type": "code",
   "execution_count": 14,
   "id": "e5a1ad49-4cc9-4e0e-9038-d11a6f26b519",
   "metadata": {},
   "outputs": [
    {
     "name": "stdout",
     "output_type": "stream",
     "text": [
      "(4962, 2)\t vizier shape\n",
      "(4962, 50)\t df_person_all shape\n",
      "(860, 2)\t df_son_father_vizier shape\n"
     ]
    }
   ],
   "source": [
    "# print df shapes (only for overview)\n",
    "print(f'{vizier.shape}\\t vizier shape')\n",
    "print(f'{df_person_all.shape}\\t df_person_all shape')\n",
    "print(f'{df_fathers_all.shape}\\t df_son_father_vizier shape')"
   ]
  },
  {
   "cell_type": "code",
   "execution_count": 15,
   "id": "c360fccd-0e77-498f-bc8f-1e13f6c19aa7",
   "metadata": {},
   "outputs": [
    {
     "name": "stdout",
     "output_type": "stream",
     "text": [
      "(4962,)\t df_person_id shape\n"
     ]
    }
   ],
   "source": [
    "# drop duplicates persons in df_person_all (if any)\n",
    "df_person_id = df_person_all.loc[:, 'ID_person'].drop_duplicates()\n",
    "print(f'{df_person_id.shape}\\t df_person_id shape')"
   ]
  },
  {
   "cell_type": "code",
   "execution_count": 16,
   "id": "0ebbffc4-e549-4822-9cb1-d2f3e3b4d5ea",
   "metadata": {},
   "outputs": [
    {
     "name": "stdout",
     "output_type": "stream",
     "text": [
      "(860, 3)\n",
      "120\n"
     ]
    },
    {
     "data": {
      "text/html": [
       "<div>\n",
       "<style scoped>\n",
       "    .dataframe tbody tr th:only-of-type {\n",
       "        vertical-align: middle;\n",
       "    }\n",
       "\n",
       "    .dataframe tbody tr th {\n",
       "        vertical-align: top;\n",
       "    }\n",
       "\n",
       "    .dataframe thead th {\n",
       "        text-align: right;\n",
       "    }\n",
       "</style>\n",
       "<table border=\"1\" class=\"dataframe\">\n",
       "  <thead>\n",
       "    <tr style=\"text-align: right;\">\n",
       "      <th></th>\n",
       "      <th>father</th>\n",
       "      <th>son</th>\n",
       "      <th>father_was_vizier</th>\n",
       "    </tr>\n",
       "  </thead>\n",
       "  <tbody>\n",
       "    <tr>\n",
       "      <th>0</th>\n",
       "      <td>39.0</td>\n",
       "      <td>493.0</td>\n",
       "      <td>0</td>\n",
       "    </tr>\n",
       "    <tr>\n",
       "      <th>1</th>\n",
       "      <td>443.0</td>\n",
       "      <td>732.0</td>\n",
       "      <td>0</td>\n",
       "    </tr>\n",
       "    <tr>\n",
       "      <th>2</th>\n",
       "      <td>456.0</td>\n",
       "      <td>611.0</td>\n",
       "      <td>0</td>\n",
       "    </tr>\n",
       "    <tr>\n",
       "      <th>3</th>\n",
       "      <td>16.0</td>\n",
       "      <td>930.0</td>\n",
       "      <td>0</td>\n",
       "    </tr>\n",
       "    <tr>\n",
       "      <th>4</th>\n",
       "      <td>1.0</td>\n",
       "      <td>518.0</td>\n",
       "      <td>1</td>\n",
       "    </tr>\n",
       "  </tbody>\n",
       "</table>\n",
       "</div>"
      ],
      "text/plain": [
       "   father    son  father_was_vizier\n",
       "0    39.0  493.0                  0\n",
       "1   443.0  732.0                  0\n",
       "2   456.0  611.0                  0\n",
       "3    16.0  930.0                  0\n",
       "4     1.0  518.0                  1"
      ]
     },
     "execution_count": 16,
     "metadata": {},
     "output_type": "execute_result"
    }
   ],
   "source": [
    "# merge fathers with viziers\n",
    "result = pd.merge(df_fathers_all, vizier,\n",
    "                             left_on='father', right_on='ID_person',\n",
    "                             how='inner')\n",
    "result.rename(columns={'vizier': 'father_was_vizier'}, inplace=True)\n",
    "result = result[['father', 'son', 'father_was_vizier']]\n",
    "print(result.shape)\n",
    "print(result['father_was_vizier'].sum())\n",
    "result.head()"
   ]
  },
  {
   "cell_type": "code",
   "execution_count": 17,
   "id": "8ace8f86-389d-42fb-a1da-0e885449b5b0",
   "metadata": {},
   "outputs": [
    {
     "name": "stdout",
     "output_type": "stream",
     "text": [
      "(858, 2)\n"
     ]
    },
    {
     "data": {
      "text/html": [
       "<div>\n",
       "<style scoped>\n",
       "    .dataframe tbody tr th:only-of-type {\n",
       "        vertical-align: middle;\n",
       "    }\n",
       "\n",
       "    .dataframe tbody tr th {\n",
       "        vertical-align: top;\n",
       "    }\n",
       "\n",
       "    .dataframe thead th {\n",
       "        text-align: right;\n",
       "    }\n",
       "</style>\n",
       "<table border=\"1\" class=\"dataframe\">\n",
       "  <thead>\n",
       "    <tr style=\"text-align: right;\">\n",
       "      <th></th>\n",
       "      <th>son</th>\n",
       "      <th>father_was_vizier</th>\n",
       "    </tr>\n",
       "  </thead>\n",
       "  <tbody>\n",
       "    <tr>\n",
       "      <th>0</th>\n",
       "      <td>2.0</td>\n",
       "      <td>1</td>\n",
       "    </tr>\n",
       "    <tr>\n",
       "      <th>1</th>\n",
       "      <td>4.0</td>\n",
       "      <td>0</td>\n",
       "    </tr>\n",
       "    <tr>\n",
       "      <th>2</th>\n",
       "      <td>5.0</td>\n",
       "      <td>0</td>\n",
       "    </tr>\n",
       "    <tr>\n",
       "      <th>3</th>\n",
       "      <td>7.0</td>\n",
       "      <td>0</td>\n",
       "    </tr>\n",
       "    <tr>\n",
       "      <th>4</th>\n",
       "      <td>9.0</td>\n",
       "      <td>1</td>\n",
       "    </tr>\n",
       "  </tbody>\n",
       "</table>\n",
       "</div>"
      ],
      "text/plain": [
       "   son  father_was_vizier\n",
       "0  2.0                  1\n",
       "1  4.0                  0\n",
       "2  5.0                  0\n",
       "3  7.0                  0\n",
       "4  9.0                  1"
      ]
     },
     "execution_count": 17,
     "metadata": {},
     "output_type": "execute_result"
    }
   ],
   "source": [
    "# Create a new DataFrame with unique son and max father_was_vizier\n",
    "# Some sons might have recorded two or more fathers\n",
    "#    -> if any of them was vizier, set father_was_vizier=1\n",
    "result_2 = result.groupby(['son'], as_index=False).agg({'father_was_vizier': 'max'})\n",
    "print(result_2.shape)\n",
    "result_2.head()"
   ]
  },
  {
   "cell_type": "code",
   "execution_count": 18,
   "id": "988af0e8-654c-41a8-9519-4bf81a31274f",
   "metadata": {},
   "outputs": [
    {
     "name": "stdout",
     "output_type": "stream",
     "text": [
      "Dataframe saved into C:\\Users\\Stoja\\OneDrive\\Documents\\diplomka\\scr\\data\\df_father_was_vizier.csv\n",
      "(4962, 2)\n",
      "120\n"
     ]
    },
    {
     "data": {
      "text/html": [
       "<div>\n",
       "<style scoped>\n",
       "    .dataframe tbody tr th:only-of-type {\n",
       "        vertical-align: middle;\n",
       "    }\n",
       "\n",
       "    .dataframe tbody tr th {\n",
       "        vertical-align: top;\n",
       "    }\n",
       "\n",
       "    .dataframe thead th {\n",
       "        text-align: right;\n",
       "    }\n",
       "</style>\n",
       "<table border=\"1\" class=\"dataframe\">\n",
       "  <thead>\n",
       "    <tr style=\"text-align: right;\">\n",
       "      <th></th>\n",
       "      <th>ID_person</th>\n",
       "      <th>father_was_vizier</th>\n",
       "    </tr>\n",
       "  </thead>\n",
       "  <tbody>\n",
       "    <tr>\n",
       "      <th>0</th>\n",
       "      <td>322</td>\n",
       "      <td>0</td>\n",
       "    </tr>\n",
       "    <tr>\n",
       "      <th>1</th>\n",
       "      <td>323</td>\n",
       "      <td>0</td>\n",
       "    </tr>\n",
       "    <tr>\n",
       "      <th>2</th>\n",
       "      <td>324</td>\n",
       "      <td>0</td>\n",
       "    </tr>\n",
       "    <tr>\n",
       "      <th>3</th>\n",
       "      <td>325</td>\n",
       "      <td>0</td>\n",
       "    </tr>\n",
       "    <tr>\n",
       "      <th>4</th>\n",
       "      <td>326</td>\n",
       "      <td>0</td>\n",
       "    </tr>\n",
       "  </tbody>\n",
       "</table>\n",
       "</div>"
      ],
      "text/plain": [
       "   ID_person  father_was_vizier\n",
       "0        322                  0\n",
       "1        323                  0\n",
       "2        324                  0\n",
       "3        325                  0\n",
       "4        326                  0"
      ]
     },
     "execution_count": 18,
     "metadata": {},
     "output_type": "execute_result"
    }
   ],
   "source": [
    "# merge all persons and father_was_vizier (sons)\n",
    "result_3 = pd.merge(df_person_id, result_2,\n",
    "                             left_on='ID_person', right_on='son',\n",
    "                             how='left')\n",
    "result_3 = result_3.fillna(0).astype(int)\n",
    "result_3 = result_3[['ID_person', 'father_was_vizier']]\n",
    "result_3\n",
    "\n",
    "# save\n",
    "save_df(result_3, 'df_father_was_vizier')\n",
    "\n",
    "print(result_3.shape)\n",
    "print(result_3['father_was_vizier'].sum())\n",
    "result_3.head()"
   ]
  },
  {
   "cell_type": "code",
   "execution_count": null,
   "id": "5a09d602-59b9-41ae-91ce-1f0aa79888c1",
   "metadata": {},
   "outputs": [],
   "source": []
  }
 ],
 "metadata": {
  "kernelspec": {
   "display_name": "Python 3 (ipykernel)",
   "language": "python",
   "name": "python3"
  },
  "language_info": {
   "codemirror_mode": {
    "name": "ipython",
    "version": 3
   },
   "file_extension": ".py",
   "mimetype": "text/x-python",
   "name": "python",
   "nbconvert_exporter": "python",
   "pygments_lexer": "ipython3",
   "version": "3.11.8"
  }
 },
 "nbformat": 4,
 "nbformat_minor": 5
}
