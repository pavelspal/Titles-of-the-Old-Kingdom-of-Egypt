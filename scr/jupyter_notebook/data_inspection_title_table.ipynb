{
 "cells": [
  {
   "cell_type": "markdown",
   "id": "e8ea472b-b3df-4b06-9611-f07889a13dc1",
   "metadata": {},
   "source": [
    "# Title table inspection"
   ]
  },
  {
   "cell_type": "markdown",
   "id": "2db042a9-e882-4c55-81fb-c49eebdbb8f8",
   "metadata": {},
   "source": [
    "This notebook check consitency between table 'df_titles_general' and 'df_person_title'."
   ]
  },
  {
   "cell_type": "markdown",
   "id": "e38a86f4-99dd-4548-a0fc-6364a38faad5",
   "metadata": {},
   "source": [
    "### imposrt and loads"
   ]
  },
  {
   "cell_type": "code",
   "execution_count": 1,
   "id": "742441bf-1027-4ca6-aa8b-9fa55e18056a",
   "metadata": {},
   "outputs": [],
   "source": [
    "import numpy as np\n",
    "import pandas as pd\n",
    "import matplotlib.pyplot as plt\n",
    "# local\n",
    "import set_path\n",
    "import supp.support_load as lp\n",
    "import supp.support_get_mapping as gm"
   ]
  },
  {
   "cell_type": "code",
   "execution_count": 2,
   "id": "7926aa17-847c-4e20-99e3-42d467276723",
   "metadata": {},
   "outputs": [
    {
     "name": "stdout",
     "output_type": "stream",
     "text": [
      "Pickle database loaded.\n"
     ]
    },
    {
     "data": {
      "text/plain": [
       "'2024-02-19'"
      ]
     },
     "execution_count": 2,
     "metadata": {},
     "output_type": "execute_result"
    }
   ],
   "source": [
    "# ------------------------------\n",
    "# LOAD DATA\n",
    "# ------------------------------\n",
    "dfs, dfs_name, dfs_export_date = lp.load_pickle()\n",
    "# iton ... index to name dictionary\n",
    "# ntoi ... name to index dictionary\n",
    "iton, ntoi = lp.get_name_dicts(dfs_name)\n",
    "dfs_export_date"
   ]
  },
  {
   "cell_type": "markdown",
   "id": "38d9dc65-6a15-4bc1-914f-7d2402a4ae8c",
   "metadata": {},
   "source": [
    "### others"
   ]
  },
  {
   "cell_type": "code",
   "execution_count": 18,
   "id": "07f2ec62-c13c-4bfa-ab70-f1c1e061ac7f",
   "metadata": {},
   "outputs": [
    {
     "name": "stdout",
     "output_type": "stream",
     "text": [
      "(5164, 14) \t df_person_title\n",
      "(4736, 6) \t df_person\n",
      "(2303, 18) \t df_titles\n",
      "(13561, 2) \t df_titles_general\n",
      "(13561, 3) \t df_person_title\n"
     ]
    }
   ],
   "source": [
    "df_general = dfs[ntoi['df_general']]\n",
    "df_person = dfs[ntoi['df_person']]\n",
    "df_titles = dfs[ntoi['df_titles']]\n",
    "df_titles_general = dfs[ntoi['df_titles_general']]\n",
    "df_person_title = dfs[ntoi['df_person_title']]\n",
    "print(df_general.shape, '\\t df_person_title')\n",
    "print(df_person.shape, '\\t df_person')\n",
    "print(df_titles.shape, '\\t df_titles')\n",
    "print(df_titles_general.shape, '\\t df_titles_general')\n",
    "print(df_person_title.shape, '\\t df_person_title')"
   ]
  },
  {
   "cell_type": "markdown",
   "id": "c84e99d5-abfe-4c93-8a2a-6428f6365d19",
   "metadata": {},
   "source": [
    "### Test 1"
   ]
  },
  {
   "cell_type": "code",
   "execution_count": 34,
   "id": "7191182f-208f-4e78-82ef-8aa1ab66a881",
   "metadata": {},
   "outputs": [
    {
     "data": {
      "text/plain": [
       "(13524, 2)"
      ]
     },
     "execution_count": 34,
     "metadata": {},
     "output_type": "execute_result"
    }
   ],
   "source": [
    "df_1 = df_titles_general[~df_titles_general.duplicated()]\n",
    "df_1 = df_1[['ID_official', 'ID_title']]\n",
    "df_1.shape"
   ]
  },
  {
   "cell_type": "code",
   "execution_count": 35,
   "id": "11dc35d3-289f-4d5f-81f0-68c570c2bebb",
   "metadata": {},
   "outputs": [
    {
     "data": {
      "text/plain": [
       "(13524, 2)"
      ]
     },
     "execution_count": 35,
     "metadata": {},
     "output_type": "execute_result"
    }
   ],
   "source": [
    "df_2 = df_person_title[~df_person_title.duplicated()]\n",
    "df_2 = df_2[['ID_official', 'ID_title']]\n",
    "df_2.shape"
   ]
  },
  {
   "cell_type": "code",
   "execution_count": 36,
   "id": "9f2328a9-d6a5-4b2d-abd6-a65f89da2ddf",
   "metadata": {},
   "outputs": [
    {
     "data": {
      "text/plain": [
       "True"
      ]
     },
     "execution_count": 36,
     "metadata": {},
     "output_type": "execute_result"
    }
   ],
   "source": [
    "df_1.equals(df_2)"
   ]
  },
  {
   "cell_type": "markdown",
   "id": "2eeed434-8c75-4f81-87aa-b3329e8cf9b5",
   "metadata": {},
   "source": [
    "### Test 2"
   ]
  },
  {
   "cell_type": "code",
   "execution_count": 41,
   "id": "d2e5d032-e2bc-41de-8ee0-18f8b3edef3c",
   "metadata": {},
   "outputs": [
    {
     "name": "stdout",
     "output_type": "stream",
     "text": [
      "Index(['ID_official', 'ID_title'], dtype='object')\n",
      "Index(['ID_official', 'ID_title', 'ID_person'], dtype='object')\n"
     ]
    }
   ],
   "source": [
    "print(df_titles_general.columns)\n",
    "print(df_person_title.columns)"
   ]
  },
  {
   "cell_type": "code",
   "execution_count": 69,
   "id": "87b44806-6434-44e6-9299-aa855f4ce985",
   "metadata": {},
   "outputs": [
    {
     "data": {
      "text/plain": [
       "(13524, 3)"
      ]
     },
     "execution_count": 69,
     "metadata": {},
     "output_type": "execute_result"
    }
   ],
   "source": [
    "df_3 = pd.merge(df_titles_general, df_general, on='ID_official')\n",
    "df_3 = df_3[['ID_official', 'ID_title', 'ID_person']]\n",
    "df_3 = df_3[~df_3.duplicated()]\n",
    "# order df\n",
    "df_3 = df_3.sort_values(by=list(df_3.columns)).reset_index(drop=True)\n",
    "df_3.shape"
   ]
  },
  {
   "cell_type": "code",
   "execution_count": 68,
   "id": "e6b6ff7f-63a6-4f42-a92c-69183bdf8e58",
   "metadata": {},
   "outputs": [
    {
     "data": {
      "text/plain": [
       "(13524, 3)"
      ]
     },
     "execution_count": 68,
     "metadata": {},
     "output_type": "execute_result"
    }
   ],
   "source": [
    "df_4 = df_person_title[~df_person_title.duplicated()]\n",
    "df_4 = df_4[['ID_official', 'ID_title', 'ID_person']]\n",
    "# order df\n",
    "df_4 = df_4.sort_values(by=list(df_4.columns)).reset_index(drop=True)\n",
    "df_4.shape"
   ]
  },
  {
   "cell_type": "code",
   "execution_count": 70,
   "id": "94104871-cdc0-488b-86f1-57837255fe30",
   "metadata": {},
   "outputs": [
    {
     "data": {
      "text/plain": [
       "True"
      ]
     },
     "execution_count": 70,
     "metadata": {},
     "output_type": "execute_result"
    }
   ],
   "source": [
    "df_3.equals(df_4)"
   ]
  },
  {
   "cell_type": "markdown",
   "id": "87b433fe-3472-4c8b-86fe-506e98466890",
   "metadata": {},
   "source": [
    "### conclusion"
   ]
  },
  {
   "cell_type": "markdown",
   "id": "4e1736ea-3ba2-4aea-8759-70cd49f60938",
   "metadata": {},
   "source": [
    "By this jupyter notebook, it can be seen that 'df_titles_general' (2 columns) is only squeezed 'df_person_title' (3 columns) by omiting 'ID_person' column.\n",
    "\n",
    "Table 'df_person_title' can be reach by merging 'df_person_title' and 'df_general' on column 'ID_official' and subsequent removing duplicates. "
   ]
  }
 ],
 "metadata": {
  "kernelspec": {
   "display_name": "Python 3 (ipykernel)",
   "language": "python",
   "name": "python3"
  },
  "language_info": {
   "codemirror_mode": {
    "name": "ipython",
    "version": 3
   },
   "file_extension": ".py",
   "mimetype": "text/x-python",
   "name": "python",
   "nbconvert_exporter": "python",
   "pygments_lexer": "ipython3",
   "version": "3.11.8"
  }
 },
 "nbformat": 4,
 "nbformat_minor": 5
}
